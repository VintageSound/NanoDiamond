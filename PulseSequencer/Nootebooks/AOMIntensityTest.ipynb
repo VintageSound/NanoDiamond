{
 "cells": [
  {
   "cell_type": "code",
   "execution_count": 1,
   "metadata": {},
   "outputs": [],
   "source": [
    "import pandas as pd\n",
    "import numpy as np\n",
    "import matplotlib.pyplot as plt\n",
    "import time\n",
    "from threading import Thread\n",
    "\n",
    "import os\n",
    "\n",
    "os.chdir(r\"D:\\NanoDiamond\\PulseSequencer\")\n",
    "\n",
    "from IPython.display import display\n",
    "\n",
    "from Interfaces.dataSaver import dataSaver\n",
    "\n",
    "from Data.pulseConfiguration import pulseConfiguration\n",
    "from Data.microwaveConfiguration import microwaveConfiguration\n",
    "from Data.measurementType import measurementType\n",
    "\n",
    "from LogicManagers.measurementManager import measurementManager\n",
    "from LogicManagers.scanManager import scanManager\n",
    "from LogicManagers import pulseAnalayzer"
   ]
  },
  {
   "cell_type": "code",
   "execution_count": 2,
   "metadata": {},
   "outputs": [],
   "source": [
    "def printAndSaveData(data):       \n",
    "    print(\"dsfsdfsd\")         \n",
    "    xLabel = measurement_manager.RabiXAxisLabel\n",
    "    yLabel = measurement_manager.RabiYAxisLabel\n",
    "\n",
    "    t_image, y_image = pulseAnalayzer.getOnlyImage(data[xLabel], data[yLabel])\n",
    "    t_pump, y_pump = pulseAnalayzer.getOnlyPump(data[xLabel], data[yLabel])\n",
    "    \n",
    "    pump_intensity[AOM_intensity] = pulseAnalayzer.getIntegraionOfPump(data[xLabel], data[yLabel])\n",
    "    image_intensity[AOM_intensity] = pulseAnalayzer.getIntegraionOfImage(data[xLabel], data[yLabel])\n",
    "\n",
    "    plt.plot(t_pump, y_pump, label = \"Pump\")\n",
    "    plt.plot(t_image, y_image, label = \"Image\")\n",
    "    \n",
    "    plt.legend()\n",
    "\n",
    "    plt.set_xlabel(xLabel)\n",
    "    plt.set_ylabel(yLabel)\n",
    "\n",
    "    plt.show()"
   ]
  },
  {
   "cell_type": "markdown",
   "metadata": {},
   "source": [
    "## Settings"
   ]
  },
  {
   "cell_type": "code",
   "execution_count": 3,
   "metadata": {},
   "outputs": [],
   "source": [
    "Iterations = 1\n",
    "AOM_max = 1\n",
    "AOM_min = 0\n",
    "AOM_step = 0.1\n",
    "\n",
    "AOM_range = np.arange(AOM_min, AOM_max, AOM_step)"
   ]
  },
  {
   "cell_type": "markdown",
   "metadata": {},
   "source": [
    "## Configurations"
   ]
  },
  {
   "cell_type": "code",
   "execution_count": 4,
   "metadata": {},
   "outputs": [],
   "source": [
    "pulseConfig = pulseConfiguration()\n",
    "\n",
    "pulseConfig.count_duration = 1\n",
    "pulseConfig.count_number = Iterations\n",
    "pulseConfig.threshold = 1.6\n",
    "pulseConfig.iterations = Iterations\n",
    "pulseConfig.pump_start = 0\n",
    "pulseConfig.pump_duration = 4\n",
    "pulseConfig.microwave_start = 5\n",
    "pulseConfig.microwave_duration = 0\n",
    "pulseConfig.image_start = 8\n",
    "pulseConfig.image_duration = 4\n",
    "pulseConfig.readout_start = 0\n",
    "pulseConfig.low_voltage_AOM = 0\n",
    "pulseConfig.high_voltage_AOM = 1\n",
    "pulseConfig.measurement_type = measurementType.RabiPulse\n",
    "\n",
    "microwaveConfig = microwaveConfiguration(\n",
    "    trigMode = 0,\n",
    "    centerFreq=2870,\n",
    "    power=0)"
   ]
  },
  {
   "cell_type": "code",
   "execution_count": 7,
   "metadata": {},
   "outputs": [
    {
     "name": "stdout",
     "output_type": "stream",
     "text": [
      "trying to connect to red pitaya: 132.72.13.15 1001\n"
     ]
    },
    {
     "name": "stdout",
     "output_type": "stream",
     "text": [
      "connected to Red Pitaya!\n",
      "1\n",
      "Configuration sent to red pitaya\n"
     ]
    }
   ],
   "source": [
    "measurement_manager = measurementManager()\n",
    "data_saver = dataSaver(measurement_manager)\n",
    "\n",
    "\n",
    "AOM_intensity = 0\n",
    "\n",
    "pump_intensity = {}\n",
    "# measurement_manager.registerToRabiPulseDataRecivedEvent(printAndSaveData)\n",
    "image_intensity = {}\n",
    "measurement_manager.connectToEverythingSync()\n",
    "measurement_manager.redPitaya.congifurePulse(pulseConfig)\n",
    "# measurement_manager.laserOpenCloseToggle(pulseConfig)"
   ]
  },
  {
   "cell_type": "code",
   "execution_count": 18,
   "metadata": {},
   "outputs": [
    {
     "name": "stdout",
     "output_type": "stream",
     "text": [
      "trying to connect to red pitaya: 132.72.13.15 1001\n",
      "connected to Red Pitaya!\n"
     ]
    },
    {
     "data": {
      "text/plain": [
       "True"
      ]
     },
     "execution_count": 18,
     "metadata": {},
     "output_type": "execute_result"
    }
   ],
   "source": [
    "measurement_manager.redPitaya.connect()\n",
    "measurement_manager.redPitaya.socket.waitForConnected()"
   ]
  },
  {
   "cell_type": "code",
   "execution_count": 20,
   "metadata": {},
   "outputs": [
    {
     "name": "stdout",
     "output_type": "stream",
     "text": [
      "AOM is closed\n"
     ]
    },
    {
     "data": {
      "text/plain": [
       "True"
      ]
     },
     "execution_count": 20,
     "metadata": {},
     "output_type": "execute_result"
    }
   ],
   "source": [
    "measurement_manager.laserOpenCloseToggle(pulseConfig)\n"
   ]
  },
  {
   "cell_type": "code",
   "execution_count": 6,
   "metadata": {},
   "outputs": [
    {
     "name": "stdout",
     "output_type": "stream",
     "text": [
      "disconnect from Red Pitaya\n"
     ]
    },
    {
     "data": {
      "text/plain": [
       "True"
      ]
     },
     "execution_count": 6,
     "metadata": {},
     "output_type": "execute_result"
    }
   ],
   "source": [
    "measurement_manager.redPitaya.disconnect()\n",
    "measurement_manager.redPitaya.socket.waitForDisconnected()"
   ]
  },
  {
   "cell_type": "code",
   "execution_count": 8,
   "metadata": {},
   "outputs": [
    {
     "name": "stdout",
     "output_type": "stream",
     "text": [
      "trying to connect to red pitaya: 132.72.13.15 1001\n",
      "connected to pulse blaster\n",
      "WindFreak is connected\n",
      "connected to Red Pitaya!\n"
     ]
    }
   ],
   "source": [
    "measurement_manager.connectToEverythingSync()"
   ]
  },
  {
   "cell_type": "code",
   "execution_count": 15,
   "metadata": {},
   "outputs": [
    {
     "name": "stdout",
     "output_type": "stream",
     "text": [
      "1\n",
      "Configuration sent to red pitaya\n"
     ]
    }
   ],
   "source": [
    "# new_thread = Thread(target=fn,args=args_tuple)\n",
    "\n",
    "measurement_manager.redPitaya.congifurePulse(pulseConfig)\n",
    "measurement_manager.redPitaya.socket.flush()\n",
    "# measurement_manager.redPitaya.reconnect()\n",
    "# measurement_manager.redPitaya.socket.waitForReadyRead()"
   ]
  },
  {
   "cell_type": "code",
   "execution_count": 16,
   "metadata": {},
   "outputs": [
    {
     "name": "stdout",
     "output_type": "stream",
     "text": [
      "1\n",
      "Configuration sent to red pitaya\n",
      "configured pulse blaster\n",
      "Windfreak Rabi configuration sent: 2870 0 0\n",
      "new rabi measurement started\n",
      "0\n",
      "0\n",
      "0\n",
      "0\n",
      "0\n",
      "0\n",
      "0\n",
      "0\n",
      "0\n",
      "0\n",
      "0\n",
      "0\n",
      "0\n",
      "0\n",
      "0\n",
      "0\n",
      "0\n",
      "0\n",
      "0\n",
      "0\n",
      "      Time [micro seconds]  Photons Counted\n",
      "0                        0                0\n",
      "1                        0                0\n",
      "2                        0                0\n",
      "3                        0                0\n",
      "4                        0                0\n",
      "...                    ...              ...\n",
      "1019                     0                0\n",
      "1020                     0                0\n",
      "1021                     0                0\n",
      "1022                     0                0\n",
      "1023                     0                0\n",
      "\n",
      "[1024 rows x 2 columns]\n"
     ]
    }
   ],
   "source": [
    "# measurement_manager.connectToEverything()\n",
    "measurement_manager.startNewRabiPulseMeasurement(pulseConfig, microwaveConfig)\n",
    "measurement_manager.redPitaya.socket.flush()\n",
    "\n",
    "for i in range(20):\n",
    "    time.sleep(1)\n",
    "    size = measurement_manager.redPitaya.socket.size()\n",
    "    print(size)\n",
    "\n",
    "data = measurement_manager.getRabiData()\n",
    "print(data)"
   ]
  },
  {
   "cell_type": "code",
   "execution_count": 6,
   "metadata": {},
   "outputs": [
    {
     "ename": "NameError",
     "evalue": "name 'measurement_manager' is not defined",
     "output_type": "error",
     "traceback": [
      "\u001b[1;31m---------------------------------------------------------------------------\u001b[0m",
      "\u001b[1;31mNameError\u001b[0m                                 Traceback (most recent call last)",
      "\u001b[1;32m~\\AppData\\Local\\Temp\\ipykernel_10988\\4258719650.py\u001b[0m in \u001b[0;36m<module>\u001b[1;34m\u001b[0m\n\u001b[0;32m      1\u001b[0m \u001b[1;32mfor\u001b[0m \u001b[0mAOM_intensity\u001b[0m \u001b[1;32min\u001b[0m \u001b[0mAOM_range\u001b[0m\u001b[1;33m:\u001b[0m\u001b[1;33m\u001b[0m\u001b[1;33m\u001b[0m\u001b[0m\n\u001b[0;32m      2\u001b[0m     \u001b[0mpulseConfig\u001b[0m\u001b[1;33m.\u001b[0m\u001b[0mhigh_voltage_AOM\u001b[0m \u001b[1;33m=\u001b[0m \u001b[0mAOM_intensity\u001b[0m\u001b[1;33m\u001b[0m\u001b[1;33m\u001b[0m\u001b[0m\n\u001b[1;32m----> 3\u001b[1;33m     \u001b[0mmeasurement_manager\u001b[0m\u001b[1;33m.\u001b[0m\u001b[0mstartNewRabiPulseMeasurement\u001b[0m\u001b[1;33m(\u001b[0m\u001b[0mpulseConfig\u001b[0m\u001b[1;33m,\u001b[0m \u001b[0mmicrowaveConfig\u001b[0m\u001b[1;33m)\u001b[0m\u001b[1;33m\u001b[0m\u001b[1;33m\u001b[0m\u001b[0m\n\u001b[0m\u001b[0;32m      4\u001b[0m     \u001b[0mmeasurement_manager\u001b[0m\u001b[1;33m.\u001b[0m\u001b[0mredPitaya\u001b[0m\u001b[1;33m.\u001b[0m\u001b[0mwaitForData\u001b[0m\u001b[1;33m(\u001b[0m\u001b[1;36m20\u001b[0m\u001b[1;33m)\u001b[0m\u001b[1;33m\u001b[0m\u001b[1;33m\u001b[0m\u001b[0m\n",
      "\u001b[1;31mNameError\u001b[0m: name 'measurement_manager' is not defined"
     ]
    }
   ],
   "source": [
    "for AOM_intensity in AOM_range:\n",
    "    pulseConfig.high_voltage_AOM = AOM_intensity\n",
    "    measurement_manager.startNewRabiPulseMeasurement(pulseConfig, microwaveConfig)\n",
    "    measurement_manager.redPitaya.waitForData(20)"
   ]
  },
  {
   "cell_type": "code",
   "execution_count": null,
   "metadata": {},
   "outputs": [],
   "source": [
    "y_label = \"Pulse Intensity\"\n",
    "x_label = \"AOM Voltage\"\n",
    "\n",
    "plt.plot(pump_intensity.keys(),pump_intensity.values(), label=\"Pump\")\n",
    "plt.plot(image_intensity.keys(),image_intensity.values(), label=\"Image\")\n",
    "\n",
    "plt.set_xlabel(y_label)\n",
    "plt.set_ylabel(y_label)\n",
    "\n",
    "plt.legend()\n",
    "\n",
    "plt.show()"
   ]
  }
 ],
 "metadata": {
  "interpreter": {
   "hash": "0dd62bcd5138d8cff999d632cd3164342ccdf5e692c2f117d05bd2fb47d656ac"
  },
  "kernelspec": {
   "display_name": "Python 3.10.2 64-bit",
   "language": "python",
   "name": "python3"
  },
  "language_info": {
   "codemirror_mode": {
    "name": "ipython",
    "version": 3
   },
   "file_extension": ".py",
   "mimetype": "text/x-python",
   "name": "python",
   "nbconvert_exporter": "python",
   "pygments_lexer": "ipython3",
   "version": "3.7.7"
  },
  "orig_nbformat": 4
 },
 "nbformat": 4,
 "nbformat_minor": 2
}

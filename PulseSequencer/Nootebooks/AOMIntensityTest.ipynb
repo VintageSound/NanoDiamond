{
 "cells": [
  {
   "cell_type": "code",
   "execution_count": 3,
   "metadata": {},
   "outputs": [
    {
     "ename": "FileNotFoundError",
     "evalue": "[WinError 3] The system cannot find the path specified: 'D:\\\\NanoDiamond\\\\PulseSequencer'",
     "output_type": "error",
     "traceback": [
      "\u001b[1;31m---------------------------------------------------------------------------\u001b[0m",
      "\u001b[1;31mFileNotFoundError\u001b[0m                         Traceback (most recent call last)",
      "\u001b[1;32mc:\\Users\\zivco\\OneDrive\\Documents\\Github Projects\\Atom Chip Lab\\NanoDiamond\\NanoDiamond\\PulseSequencer\\Nootebooks\\AOMIntensityTest.ipynb Cell 1'\u001b[0m in \u001b[0;36m<cell line: 7>\u001b[1;34m()\u001b[0m\n\u001b[0;32m      <a href='vscode-notebook-cell:/c%3A/Users/zivco/OneDrive/Documents/Github%20Projects/Atom%20Chip%20Lab/NanoDiamond/NanoDiamond/PulseSequencer/Nootebooks/AOMIntensityTest.ipynb#ch0000000?line=2'>3</a>\u001b[0m \u001b[39mimport\u001b[39;00m \u001b[39mmatplotlib\u001b[39;00m\u001b[39m.\u001b[39;00m\u001b[39mpyplot\u001b[39;00m \u001b[39mas\u001b[39;00m \u001b[39mplt\u001b[39;00m\n\u001b[0;32m      <a href='vscode-notebook-cell:/c%3A/Users/zivco/OneDrive/Documents/Github%20Projects/Atom%20Chip%20Lab/NanoDiamond/NanoDiamond/PulseSequencer/Nootebooks/AOMIntensityTest.ipynb#ch0000000?line=4'>5</a>\u001b[0m \u001b[39mimport\u001b[39;00m \u001b[39mos\u001b[39;00m\n\u001b[1;32m----> <a href='vscode-notebook-cell:/c%3A/Users/zivco/OneDrive/Documents/Github%20Projects/Atom%20Chip%20Lab/NanoDiamond/NanoDiamond/PulseSequencer/Nootebooks/AOMIntensityTest.ipynb#ch0000000?line=6'>7</a>\u001b[0m os\u001b[39m.\u001b[39;49mchdir(\u001b[39mr\u001b[39;49m\u001b[39m\"\u001b[39;49m\u001b[39mD:\u001b[39;49m\u001b[39m\\\u001b[39;49m\u001b[39mNanoDiamond\u001b[39;49m\u001b[39m\\\u001b[39;49m\u001b[39mPulseSequencer\u001b[39;49m\u001b[39m\"\u001b[39;49m)\n\u001b[0;32m     <a href='vscode-notebook-cell:/c%3A/Users/zivco/OneDrive/Documents/Github%20Projects/Atom%20Chip%20Lab/NanoDiamond/NanoDiamond/PulseSequencer/Nootebooks/AOMIntensityTest.ipynb#ch0000000?line=9'>10</a>\u001b[0m \u001b[39mfrom\u001b[39;00m \u001b[39mIPython\u001b[39;00m\u001b[39m.\u001b[39;00m\u001b[39mdisplay\u001b[39;00m \u001b[39mimport\u001b[39;00m display\n\u001b[0;32m     <a href='vscode-notebook-cell:/c%3A/Users/zivco/OneDrive/Documents/Github%20Projects/Atom%20Chip%20Lab/NanoDiamond/NanoDiamond/PulseSequencer/Nootebooks/AOMIntensityTest.ipynb#ch0000000?line=11'>12</a>\u001b[0m \u001b[39mfrom\u001b[39;00m \u001b[39mInterfaces\u001b[39;00m\u001b[39m.\u001b[39;00m\u001b[39mdataSaver\u001b[39;00m \u001b[39mimport\u001b[39;00m dataSaver\n",
      "\u001b[1;31mFileNotFoundError\u001b[0m: [WinError 3] The system cannot find the path specified: 'D:\\\\NanoDiamond\\\\PulseSequencer'"
     ]
    }
   ],
   "source": [
    "import pandas as pd\n",
    "import numpy as np\n",
    "import matplotlib.pyplot as plt\n",
    "import time\n",
    "\n",
    "import os\n",
    "\n",
    "os.chdir(r\"D:\\NanoDiamond\\PulseSequencer\")\n",
    "\n",
    "from IPython.display import display\n",
    "\n",
    "from Interfaces.dataSaver import dataSaver\n",
    "\n",
    "from Data.pulseConfiguration import pulseConfiguration\n",
    "from Data.microwaveConfiguration import microwaveConfiguration\n",
    "from Data.measurementType import measurementType\n",
    "\n",
    "from LogicManagers.measurementManager import measurementManager\n",
    "from LogicManagers.scanManager import scanManager\n",
    "from LogicManagers import pulseAnalayzer"
   ]
  },
  {
   "cell_type": "code",
   "execution_count": 6,
   "metadata": {},
   "outputs": [],
   "source": [
    "def printAndSaveData():\n",
    "    data = measurement_manager.getRabiData()\n",
    "\n",
    "    xLabel = measurement_manager.RabiXAxisLabel\n",
    "    yLabel = measurement_manager.RabiYAxisLabel\n",
    "\n",
    "    t_image, y_image = pulseAnalayzer.getOnlyImage(data[xLabel], data[yLabel])\n",
    "    t_pump, y_pump = pulseAnalayzer.getOnlyPump(data[xLabel], data[yLabel])\n",
    "    \n",
    "    pump_intensity[AOM_intensity] = pulseAnalayzer.getIntegraionOfPump(data[xLabel], data[yLabel])\n",
    "    image_intensity[AOM_intensity] = pulseAnalayzer.getIntegraionOfImage(data[xLabel], data[yLabel])\n",
    "\n",
    "    plt.plot(t_pump, y_pump, label = \"Pump\")\n",
    "    plt.plot(t_image, y_image, label = \"Image\")\n",
    "    \n",
    "    plt.legend()\n",
    "\n",
    "    plt.set_xlabel(xLabel)\n",
    "    plt.set_ylabel(yLabel)\n",
    "\n",
    "    plt.show()"
   ]
  },
  {
   "cell_type": "code",
   "execution_count": null,
   "metadata": {},
   "outputs": [],
   "source": [
    "measurement_manager = measurementManager()\n",
    "data_saver = dataSaver(measurement_manager)\n",
    "\n",
    "measurement_manager.registerToRabiPulseDataRecivedEvent(printAndSaveData)\n",
    "measurement_manager.connectToEverything()\n",
    "\n",
    "AOM_intensity = 0\n",
    "\n",
    "pump_intensity = {}\n",
    "image_intensity = {}"
   ]
  },
  {
   "cell_type": "markdown",
   "metadata": {},
   "source": [
    "## Settings"
   ]
  },
  {
   "cell_type": "code",
   "execution_count": 5,
   "metadata": {},
   "outputs": [
    {
     "data": {
      "text/plain": [
       "array([0. , 0.1, 0.2, 0.3, 0.4, 0.5, 0.6, 0.7, 0.8, 0.9])"
      ]
     },
     "execution_count": 5,
     "metadata": {},
     "output_type": "execute_result"
    }
   ],
   "source": [
    "Iterations = 10000\n",
    "AOM_max = 1\n",
    "AOM_min = 0\n",
    "AOM_step = 0.1\n",
    "\n",
    "AOM_range = np.arange(AOM_min, AOM_max, AOM_step)"
   ]
  },
  {
   "cell_type": "markdown",
   "metadata": {},
   "source": [
    "## Configurations"
   ]
  },
  {
   "cell_type": "code",
   "execution_count": null,
   "metadata": {},
   "outputs": [],
   "source": [
    "pulseConfig = pulseConfiguration()\n",
    "\n",
    "pulseConfig.count_duration = 1\n",
    "pulseConfig.count_number = Iterations\n",
    "pulseConfig.threshold = 1.6\n",
    "pulseConfig.iterations = Iterations\n",
    "pulseConfig.pump_start = 0\n",
    "pulseConfig.pump_duration = 4\n",
    "pulseConfig.microwave_start = 5\n",
    "pulseConfig.microwave_duration = 0\n",
    "pulseConfig.image_start = 8\n",
    "pulseConfig.image_duration = 4\n",
    "pulseConfig.readout_start = 0\n",
    "pulseConfig.low_voltage_AOM = 0\n",
    "pulseConfig.high_voltage_AOM = AOM_intensity\n",
    "\n",
    "microwaveConfig = microwaveConfiguration(\n",
    "    trigMode = 0,\n",
    "    centerFreq=2870,\n",
    "    power=0)"
   ]
  },
  {
   "cell_type": "code",
   "execution_count": null,
   "metadata": {},
   "outputs": [],
   "source": [
    "for AOM_intensity in AOM_range:\n",
    "    pulseConfig.high_voltage_AOM = AOM_intensity\n",
    "    measurement_manager.startNewRabiPulseMeasurement(pulseConfig, microwaveConfig)\n",
    "    measurement_manager.redPitaya.waitForData()"
   ]
  },
  {
   "cell_type": "code",
   "execution_count": null,
   "metadata": {},
   "outputs": [],
   "source": [
    "y_label = \"Pulse Intensity\"\n",
    "x_label = \"AOM Voltage\"\n",
    "\n",
    "plt.plot(pump_intensity.keys(),pump_intensity.values(), label=\"Pump\")\n",
    "plt.plot(image_intensity.keys(),image_intensity.values(), label=\"Image\")\n",
    "\n",
    "plt.set_xlabel(y_label)\n",
    "plt.set_ylabel(y_label)\n",
    "\n",
    "plt.legend()\n",
    "\n",
    "plt.show()"
   ]
  }
 ],
 "metadata": {
  "interpreter": {
   "hash": "0dd62bcd5138d8cff999d632cd3164342ccdf5e692c2f117d05bd2fb47d656ac"
  },
  "kernelspec": {
   "display_name": "Python 3.10.2 64-bit",
   "language": "python",
   "name": "python3"
  },
  "language_info": {
   "codemirror_mode": {
    "name": "ipython",
    "version": 3
   },
   "file_extension": ".py",
   "mimetype": "text/x-python",
   "name": "python",
   "nbconvert_exporter": "python",
   "pygments_lexer": "ipython3",
   "version": "3.10.2"
  },
  "orig_nbformat": 4
 },
 "nbformat": 4,
 "nbformat_minor": 2
}
